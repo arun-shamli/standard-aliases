{
 "cells": [
  {
   "cell_type": "code",
   "execution_count": 1,
   "id": "3648ec1b",
   "metadata": {},
   "outputs": [],
   "source": [
    "import sys\n",
    "import os\n",
    "import re\n",
    "# import collections\n",
    "from collections.abc import MutableSet\n"
   ]
  },
  {
   "cell_type": "code",
   "execution_count": 2,
   "id": "3dcd9cc6",
   "metadata": {},
   "outputs": [],
   "source": [
    "# Prints passed objects to stderr.\n",
    "def warning(*objs):\n",
    "    print(\"WARNING: \", *objs, file=sys.stderr)\n",
    "\n",
    "# Converts passed string by uppercasing first letter.\n",
    "firstLetterToUppercase = lambda s: s[:1].upper() + s[1:] if s else ''\n",
    "\n",
    "# Converts passed string by lowercasing first letter.\n",
    "firstLetterToLowercase = lambda s: s[:1].lower() + s[1:] if s else ''"
   ]
  },
  {
   "cell_type": "code",
   "execution_count": 3,
   "id": "446131ec",
   "metadata": {},
   "outputs": [],
   "source": [
    "# Converts description in form of a sentence (words separated by\n",
    "# spaces, ends with period) into a camel case form.\n",
    "def descriptionToCamelCase(command):\n",
    "    words = []\n",
    "    for word in command.split():\n",
    "        words.append(firstLetterToUppercase(word))\n",
    "    words[0] = firstLetterToLowercase(words[0])\n",
    "    out = \"\".join(words)\n",
    "    out = re.sub(' ', '', out)\n",
    "    out = re.sub('\\.', '', out)\n",
    "    return \"__\"+out\n",
    "\n",
    "# Converts text in form of camel case into a sentence (First\n",
    "# letter of first word in upper case, words separated by spaces,\n",
    "# ends with period).\n",
    "def camelCaseToDescription(command):\n",
    "    command = command.strip('_')\n",
    "    command = re.sub(r'([A-Z])',r' \\1',command)\n",
    "    command = command.lower()\n",
    "    return firstLetterToUppercase(command)+\".\"\n",
    "\n",
    "# Retruns files lines as list of strings.\n",
    "def getFileContents(fileName):\n",
    "    with open(fileName) as f:\n",
    "        return f.readlines()"
   ]
  },
  {
   "cell_type": "code",
   "execution_count": 14,
   "id": "2fa602bb",
   "metadata": {},
   "outputs": [
    {
     "data": {
      "text/plain": [
       "'Arun Kumar Singh Is Bhaneda.'"
      ]
     },
     "execution_count": 14,
     "metadata": {},
     "output_type": "execute_result"
    }
   ],
   "source": [
    "command = \"__arunKumarSinghIsBhaneda\"\n",
    "command = command.strip('_')\n",
    "command = re.sub(r'([A-Z])',r' \\1',command)\n",
    "firstLetterToUppercase(command)+\".\""
   ]
  },
  {
   "cell_type": "code",
   "execution_count": 4,
   "id": "76c8abde",
   "metadata": {},
   "outputs": [],
   "source": [
    "def underscoreToCamelcase(command):\n",
    "    out = \"\"\n",
    "    command = command.strip('_')\n",
    "    command = command.strip(' ')\n",
    "    tokens = command.split('_')\n",
    "    first = True\n",
    "    for token in tokens:\n",
    "        token = token.lower()\n",
    "        if not first:\n",
    "            token = firstLetterToUppercase(token)\n",
    "        out += token\n",
    "        first = False\n",
    "    return out\n",
    "\n",
    "def camelcaseToUnderscore(command):\n",
    "    command = command.strip(' ')\n",
    "    s1 = re.sub('(.)([A-Z][a-z]+)', r'\\1_\\2', command)\n",
    "    return re.sub('([a-z0-9])([A-Z])', r'\\1_\\2', s1).lower()\n"
   ]
  },
  {
   "cell_type": "code",
   "execution_count": 19,
   "id": "b2c29e98",
   "metadata": {},
   "outputs": [
    {
     "data": {
      "text/plain": [
       "'__arun_kumar_singh_is_bhaneda'"
      ]
     },
     "execution_count": 19,
     "metadata": {},
     "output_type": "execute_result"
    }
   ],
   "source": [
    "command = \"__arunKumarSinghIsBhaneda\"\n",
    "camelcaseToUnderscore(command)"
   ]
  },
  {
   "cell_type": "code",
   "execution_count": null,
   "id": "e8c4f75e",
   "metadata": {},
   "outputs": [],
   "source": []
  },
  {
   "cell_type": "code",
   "execution_count": null,
   "id": "2ac5db6d",
   "metadata": {},
   "outputs": [],
   "source": []
  },
  {
   "cell_type": "code",
   "execution_count": 5,
   "id": "072167e0",
   "metadata": {},
   "outputs": [],
   "source": [
    "class OrderedSet(MutableSet):\n",
    "\n",
    "    def __init__(self, iterable=None):\n",
    "        self.end = end = [] \n",
    "        end += [None, end, end]         # sentinel node for doubly linked list\n",
    "        self.map = {}                   # key --> [key, prev, next]\n",
    "        if iterable is not None:\n",
    "            self |= iterable\n",
    "\n",
    "    def __len__(self):\n",
    "        return len(self.map)\n",
    "\n",
    "    def __contains__(self, key):\n",
    "        return key in self.map\n",
    "\n",
    "    def add(self, key):\n",
    "        if key not in self.map:\n",
    "            end = self.end\n",
    "            curr = end[1]\n",
    "            curr[2] = end[1] = self.map[key] = [key, curr, end]\n",
    "\n",
    "    def discard(self, key):\n",
    "        if key in self.map:        \n",
    "            key, prev, next = self.map.pop(key)\n",
    "            prev[2] = next\n",
    "            next[1] = prev\n",
    "\n",
    "    def __iter__(self):\n",
    "        end = self.end\n",
    "        curr = end[2]\n",
    "        while curr is not end:\n",
    "            yield curr[0]\n",
    "            curr = curr[2]\n",
    "\n",
    "    def __reversed__(self):\n",
    "        end = self.end\n",
    "        curr = end[1]\n",
    "        while curr is not end:\n",
    "            yield curr[0]\n",
    "            curr = curr[1]\n",
    "\n",
    "    def pop(self, last=True):\n",
    "        if not self:\n",
    "            raise KeyError('set is empty')\n",
    "        key = self.end[1][0] if last else self.end[2][0]\n",
    "        self.discard(key)\n",
    "        return key\n",
    "\n",
    "    def __repr__(self):\n",
    "        if not self:\n",
    "            return '%s()' % (self.__class__.__name__,)\n",
    "        return '%s(%r)' % (self.__class__.__name__, list(self))\n",
    "\n",
    "    def __eq__(self, other):\n",
    "        if isinstance(other, OrderedSet):\n",
    "            return len(self) == len(other) and list(self) == list(other)\n",
    "        return set(self) == set(other)\n",
    "\n"
   ]
  },
  {
   "cell_type": "code",
   "execution_count": null,
   "id": "24b22d1c",
   "metadata": {},
   "outputs": [],
   "source": []
  },
  {
   "cell_type": "code",
   "execution_count": null,
   "id": "e41c7161",
   "metadata": {},
   "outputs": [],
   "source": []
  }
 ],
 "metadata": {
  "kernelspec": {
   "display_name": "Python 3 (ipykernel)",
   "language": "python",
   "name": "python3"
  },
  "language_info": {
   "codemirror_mode": {
    "name": "ipython",
    "version": 3
   },
   "file_extension": ".py",
   "mimetype": "text/x-python",
   "name": "python",
   "nbconvert_exporter": "python",
   "pygments_lexer": "ipython3",
   "version": "3.9.7"
  }
 },
 "nbformat": 4,
 "nbformat_minor": 5
}

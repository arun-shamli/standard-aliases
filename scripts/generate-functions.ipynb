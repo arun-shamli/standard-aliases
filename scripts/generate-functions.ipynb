{
 "cells": [
  {
   "cell_type": "code",
   "execution_count": 1,
   "id": "3684c5c7",
   "metadata": {},
   "outputs": [],
   "source": [
    "\n",
    "import sys \n",
    "import re\n",
    "\n",
    "import util\n",
    "import const\n",
    "\n",
    "LENGTH_OF_CODE_SNIPPET = 15\n",
    "\n",
    "aliasesContent = util.getFileContents(const.AL_FILENAME)\n",
    "projectsRcContent = util.getFileContents(const.PROJECTS_RC_FILENAME)\n",
    "interestingContent = util.getFileContents(const.LIST_OF_IMPORTANT_FUNCTIONS)"
   ]
  },
  {
   "cell_type": "code",
   "execution_count": 4,
   "id": "e11c665c",
   "metadata": {},
   "outputs": [
    {
     "data": {
      "text/plain": [
       "'/home/ak8017/extensions/standard-aliases/scripts/../standard_rc'"
      ]
     },
     "execution_count": 4,
     "metadata": {},
     "output_type": "execute_result"
    }
   ],
   "source": [
    "const.PROJECTS_RC_FILENAME"
   ]
  },
  {
   "cell_type": "code",
   "execution_count": 8,
   "id": "44ba6c1b",
   "metadata": {},
   "outputs": [],
   "source": [
    "# Gets dictionary of options from standard_rc, so they can be\n",
    "# substituted.\n",
    "# Returns:\n",
    "#   * dictionary of: \"${_<COMMAND-NAME>_OPTIONS[@]}\" -> options.\n",
    "def getOptions():\n",
    "  commandsWithOptions = {}\n",
    "  for line in projectsRcContent:\n",
    "    if \";\" in line:\n",
    "      tokens = line.split(\";\")\n",
    "      command = \"\\\"${_\"+tokens[0].strip().upper()+\"_OPTIONS[@]}\\\"\"\n",
    "      options = tokens[1].strip()\n",
    "      commandsWithOptions[command] = options\n",
    "  return commandsWithOptions"
   ]
  },
  {
   "cell_type": "code",
   "execution_count": 21,
   "id": "ca70e1c4",
   "metadata": {},
   "outputs": [],
   "source": [
    "#getOptions()"
   ]
  },
  {
   "cell_type": "code",
   "execution_count": 22,
   "id": "0696d804",
   "metadata": {},
   "outputs": [],
   "source": [
    "# Extracts title from the line, and adds a table header after\n",
    "# it.\n",
    "# Arguments:\n",
    "#   * line - a line.\n",
    "#   * heading - size of the heading.\n",
    "# Returns:\n",
    "#   * A heading and a table header in md format.\n",
    "def getTitle(line, heading):\n",
    "    ta = \"\\n\"\n",
    "    ta += heading+\" \"+line.strip('#').title()+\"\\n\"\n",
    "    ta += \"\\n\"\n",
    "    ta += \" _Name_        | _Runs_   | _Description_  \\n\"\n",
    "    ta += \":------------- |:--------:| ----------------\\n\"\n",
    "    return ta\n"
   ]
  },
  {
   "cell_type": "code",
   "execution_count": 23,
   "id": "0174b92b",
   "metadata": {},
   "outputs": [],
   "source": [
    "# Finds line number of the start of the function.\n",
    "# Arguments:\n",
    "#   * functionName\n",
    "# Returns:\n",
    "#   * line number\n",
    "def getFunctionLineNumber(functionName):\n",
    "  functionDefinition = functionName+\"() {\"\n",
    "  lineStart = 0\n",
    "  i = 1\n",
    "  for line in aliasesContent:\n",
    "    line = line.strip()\n",
    "    if lineStart == 0 and functionDefinition in line:\n",
    "      lineStart = i \n",
    "    elif lineStart != 0 and line == \"}\":\n",
    "      return (lineStart, i)\n",
    "    i += 1\n",
    "  return (lineStart,1)"
   ]
  },
  {
   "cell_type": "code",
   "execution_count": 24,
   "id": "acf16210",
   "metadata": {},
   "outputs": [],
   "source": [
    "# Returns functions body.\n",
    "# Arguments:\n",
    "#   * lineNum - line number of the start of the function\n",
    "#   * commandsWithOptions - map of command options\n",
    "# Returns:\n",
    "#   * functions body\n",
    "def getFunctionBody(lineNum, commandsWithOptions):\n",
    "  i = 1\n",
    "  for line in aliasesContent:\n",
    "    if i == lineNum+1:\n",
    "      for command, options in commandsWithOptions.items():\n",
    "        if command in line:\n",
    "          line = line.replace(command, options)\n",
    "          break\n",
    "      return line.strip()[:LENGTH_OF_CODE_SNIPPET]\n",
    "    i += 1\n",
    "  return \"\""
   ]
  },
  {
   "cell_type": "code",
   "execution_count": 25,
   "id": "8bad6e3a",
   "metadata": {},
   "outputs": [],
   "source": [
    "# Generates hyperlink to the function body.\n",
    "# Arguments:\n",
    "#   * lineStart - line number of the start of the function\n",
    "#   * lineEnd - line number of the end of the function\n",
    "#   * pathToFunctions - relative path to standard_functions file\n",
    "# Returns:\n",
    "#   * hyperlink\n",
    "def getLink(lineStart, lineEnd, pathToFunctions):\n",
    "  link = pathToFunctions+\"standard_functions#L\"+str(lineStart)+\"-L\"+str(lineEnd)\n",
    "  return link"
   ]
  },
  {
   "cell_type": "code",
   "execution_count": 26,
   "id": "509f0e2e",
   "metadata": {},
   "outputs": [],
   "source": [
    "# Generates tables row.\n",
    "# Arguments:\n",
    "#   * shortcut - short name of a function\n",
    "#   * explanation - short description\n",
    "#   * commandsWithOptions - map of command options\n",
    "#   * pathToFunctions - relative path to standard_functions file\n",
    "# Returns:\n",
    "#   * example:\n",
    "#     **ll** | `__listOrDisp`[**`...`**](standard_aliases#L174-L175)\n",
    "#     | List or display directory contents in pager using medium\n",
    "#     listing format. \n",
    "def getRow(shortcut, explanation, commandsWithOptions, pathToFunctions):\n",
    "  # Do not print aliases that just run the command as sudo.\n",
    "  if explanation.startswith(\"Run \") and \\\n",
    "    explanation.endswith(\" as super user.\"):\n",
    "    return\n",
    "  functionName = util.descriptionToCamelCase(explanation)\n",
    "  lineStart, lineEnd = getFunctionLineNumber(functionName)\n",
    "  functionBody = getFunctionBody(lineStart, commandsWithOptions).replace('`','')\n",
    "  link = getLink(lineStart, lineEnd, pathToFunctions)\n",
    "  if len(functionBody) >= LENGTH_OF_CODE_SNIPPET \\\n",
    "    or lineEnd - lineStart > 2:\n",
    "    functionBody = functionBody.replace('|', '&#124;')\n",
    "    runs = \"<code>\"+functionBody+\"</code>[**`...`**](\"+link+\")\"\n",
    "  else:\n",
    "    runs =  \"<code>\"+functionBody+\"</code>\"\n",
    "  return \"**\"+shortcut+\"** | \"+runs+\" | \"+explanation+\"\\n\""
   ]
  },
  {
   "cell_type": "code",
   "execution_count": 27,
   "id": "f3da036f",
   "metadata": {},
   "outputs": [],
   "source": [
    "\n",
    "# Returns:\n",
    "#   * Tables of functions in md format.\n",
    "def generateTables():\n",
    "  ta = \"\"\n",
    "  # map of: \"${_COMMAND_OPTIONS[@]}\" -> options\n",
    "  commandsWithOptions = getOptions()\n",
    "  ta += \"Commands\\n\"\n",
    "  ta += \"========\\n\"\n",
    "  for line in projectsRcContent:\n",
    "    line = line.strip()\n",
    "    if line.startswith('# ') and line.endswith(' #'):\n",
    "      ta += getTitle(line, \"###\")\n",
    "      continue\n",
    "    if \";\" in line:\n",
    "      continue\n",
    "    tokens = line.split(':')\n",
    "    if len(tokens) == 2:\n",
    "      shortcuts = tokens[0].strip()\n",
    "      if not shortcuts:\n",
    "        continue\n",
    "      explanation = tokens[1].strip()\n",
    "      row = getRow(shortcuts, explanation, commandsWithOptions, \"../\")\n",
    "      if row is not None:\n",
    "        ta += str(row)\n",
    "  return ta\n"
   ]
  },
  {
   "cell_type": "code",
   "execution_count": 28,
   "id": "3eafedd9",
   "metadata": {},
   "outputs": [],
   "source": [
    "ta = generateTables()"
   ]
  },
  {
   "cell_type": "code",
   "execution_count": 30,
   "id": "b32fc1e8",
   "metadata": {},
   "outputs": [
    {
     "data": {
      "text/plain": [
       "str"
      ]
     },
     "execution_count": 30,
     "metadata": {},
     "output_type": "execute_result"
    }
   ],
   "source": [
    "type(ta)"
   ]
  },
  {
   "cell_type": "code",
   "execution_count": null,
   "id": "7cb966ab",
   "metadata": {},
   "outputs": [],
   "source": []
  }
 ],
 "metadata": {
  "kernelspec": {
   "display_name": "Python 3 (ipykernel)",
   "language": "python",
   "name": "python3"
  },
  "language_info": {
   "codemirror_mode": {
    "name": "ipython",
    "version": 3
   },
   "file_extension": ".py",
   "mimetype": "text/x-python",
   "name": "python",
   "nbconvert_exporter": "python",
   "pygments_lexer": "ipython3",
   "version": "3.9.7"
  }
 },
 "nbformat": 4,
 "nbformat_minor": 5
}
